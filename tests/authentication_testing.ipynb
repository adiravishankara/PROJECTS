{
 "cells": [
  {
   "cell_type": "code",
   "execution_count": 10,
   "metadata": {
    "collapsed": true
   },
   "outputs": [
    {
     "ename": "AttributeError",
     "evalue": "'Spotify' object has no attribute 'json'",
     "output_type": "error",
     "traceback": [
      "\u001B[1;31m---------------------------------------------------------------------------\u001B[0m",
      "\u001B[1;31mAttributeError\u001B[0m                            Traceback (most recent call last)",
      "Cell \u001B[1;32mIn [10], line 14\u001B[0m\n\u001B[0;32m      8\u001B[0m url \u001B[38;5;241m=\u001B[39m \u001B[38;5;124m'\u001B[39m\u001B[38;5;124mhttps//accounts.spotify.com/api/token\u001B[39m\u001B[38;5;124m'\u001B[39m\n\u001B[0;32m     10\u001B[0m sp \u001B[38;5;241m=\u001B[39m spotipy\u001B[38;5;241m.\u001B[39mSpotify(auth_manager\u001B[38;5;241m=\u001B[39mSpotifyOAuth(client_id\u001B[38;5;241m=\u001B[39mclient_ID,\n\u001B[0;32m     11\u001B[0m                                                client_secret\u001B[38;5;241m=\u001B[39mclient_Secret,\n\u001B[0;32m     12\u001B[0m                                                redirect_uri\u001B[38;5;241m=\u001B[39murl,\n\u001B[0;32m     13\u001B[0m                                                scope\u001B[38;5;241m=\u001B[39m\u001B[38;5;124m\"\u001B[39m\u001B[38;5;124mplaylist-read-private\u001B[39m\u001B[38;5;124m\"\u001B[39m))\n\u001B[1;32m---> 14\u001B[0m \u001B[38;5;28mprint\u001B[39m(\u001B[43msp\u001B[49m\u001B[38;5;241;43m.\u001B[39;49m\u001B[43mjson\u001B[49m())\n",
      "\u001B[1;31mAttributeError\u001B[0m: 'Spotify' object has no attribute 'json'"
     ]
    }
   ],
   "source": [
    "'''Setting up a spotify authentication system'''\n",
    "import spotipy\n",
    "from spotipy.oauth2 import SpotifyOAuth\n",
    "import json\n",
    "\n",
    "client_ID = \"acfb9f94ce0e4546a94704acb0654afa\"\n",
    "client_Secret = \"6b18820806174d2ca4eb3400d35eed9f\"\n",
    "url = 'https//accounts.spotify.com/api/token'\n",
    "\n",
    "sp = spotipy.Spotify(auth_manager=SpotifyOAuth(client_id=client_ID,\n",
    "                                               client_secret=client_Secret,\n",
    "                                               redirect_uri=url,\n",
    "                                               scope=\"playlist-read-private\"))\n",
    "print(sp.json())"
   ]
  },
  {
   "cell_type": "code",
   "execution_count": 26,
   "outputs": [
    {
     "name": "stdout",
     "output_type": "stream",
     "text": [
      "https://accounts.spotify.com/api/authorize?response_type=code&client_id=acfb9f94ce0e4546a94704acb0654afa&redirect_uri=http%3A%2F%2Flocalhost%3A8000%2Fcallback&scope=user-read-private+user-read-email\n"
     ]
    }
   ],
   "source": [
    "import requests\n",
    "import urllib3\n",
    "from urllib3.request\n",
    "import base64\n",
    "import webbrowser\n",
    "import requests\n",
    "\n",
    "client_ID = \"acfb9f94ce0e4546a94704acb0654afa\"\n",
    "client_Secret = \"6b18820806174d2ca4eb3400d35eed9f\"\n",
    "url = 'https://accounts.spotify.com/api/authorize?'\n",
    "redirect_uri = \"http://localhost:8000/callback\"\n",
    "\n",
    "auth_headers = {\n",
    "    \"response_type\": \"code\",\n",
    "    \"client_id\": client_ID,\n",
    "    \"redirect_uri\": redirect_uri,\n",
    "    \"scope\": \"user-read-private user-read-email\"\n",
    "}\n",
    "full_url = url + urlencode(auth_headers)\n",
    "print(full_url)\n",
    "#webbrowser.open(full_url)"
   ],
   "metadata": {
    "collapsed": false
   }
  },
  {
   "cell_type": "code",
   "execution_count": 22,
   "outputs": [],
   "source": [],
   "metadata": {
    "collapsed": false
   }
  },
  {
   "cell_type": "code",
   "execution_count": 17,
   "outputs": [],
   "source": [],
   "metadata": {
    "collapsed": false
   }
  }
 ],
 "metadata": {
  "kernelspec": {
   "display_name": "Python 3",
   "language": "python",
   "name": "python3"
  },
  "language_info": {
   "codemirror_mode": {
    "name": "ipython",
    "version": 2
   },
   "file_extension": ".py",
   "mimetype": "text/x-python",
   "name": "python",
   "nbconvert_exporter": "python",
   "pygments_lexer": "ipython2",
   "version": "2.7.6"
  }
 },
 "nbformat": 4,
 "nbformat_minor": 0
}
