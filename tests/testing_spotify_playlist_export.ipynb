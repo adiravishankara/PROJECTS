{
 "cells": [
  {
   "cell_type": "code",
   "execution_count": 126,
   "metadata": {
    "collapsed": true
   },
   "outputs": [],
   "source": [
    "'''Basic Imports'''\n",
    "import yaml\n",
    "from yaml.loader import SafeLoader\n",
    "import spotipy\n",
    "from spotipy.oauth2 import SpotifyClientCredentials as SCC\n",
    "import sqlite3 as sl"
   ]
  },
  {
   "cell_type": "code",
   "execution_count": 127,
   "metadata": {},
   "outputs": [],
   "source": [
    "'''First step is to setup the spotify credientials for API access\n",
    "I am saving my credentials in a secrets.yaml folder for safety'''\n",
    "with open('secrets.yaml') as file:\n",
    "    secret_data = yaml.load(file, Loader=SafeLoader)\n",
    "client_ID = secret_data[\"spotify\"][\"client_ID\"]\n",
    "client_secret = secret_data[\"spotify\"][\"client_Secret\"]\n",
    "\n",
    "auth_manager = SCC(client_id=client_ID, client_secret=client_secret)\n",
    "api = spotipy.Spotify(client_credentials_manager=auth_manager)"
   ]
  },
  {
   "cell_type": "code",
   "execution_count": 128,
   "metadata": {},
   "outputs": [
    {
     "data": {
      "text/plain": [
       "{'display_name': 'Adi Ravishankara',\n",
       " 'external_urls': {'spotify': 'https://open.spotify.com/user/22rgo6mrxumdxizu6z26jiubq'},\n",
       " 'followers': {'href': None, 'total': 21},\n",
       " 'href': 'https://api.spotify.com/v1/users/22rgo6mrxumdxizu6z26jiubq',\n",
       " 'id': '22rgo6mrxumdxizu6z26jiubq',\n",
       " 'images': [{'height': None,\n",
       "   'url': 'https://platform-lookaside.fbsbx.com/platform/profilepic/?asid=10154083316222418&height=300&width=300&ext=1670026699&hash=AeSBskXOjirnpm6ZR1o',\n",
       "   'width': None}],\n",
       " 'type': 'user',\n",
       " 'uri': 'spotify:user:22rgo6mrxumdxizu6z26jiubq'}"
      ]
     },
     "execution_count": 128,
     "metadata": {},
     "output_type": "execute_result"
    }
   ],
   "source": [
    "'''At this point, we can access the spotify API. For now, we are going to manually enter the user's credentials'''\n",
    "# TODO: insert user login region.\n",
    "\n",
    "user = \"22rgo6mrxumdxizu6z26jiubq\"\n",
    "# You can check to see that you can access info with this\n",
    "api.user(user)\n"
   ]
  },
  {
   "cell_type": "code",
   "execution_count": 129,
   "metadata": {},
   "outputs": [
    {
     "name": "stdout",
     "output_type": "stream",
     "text": [
      "   1 6Nw7Q1TXEuZxyT8PG4rWGy TEST\n",
      "   2 3EJrGDybRcxA26kqVFJbGc April 2021\n",
      "   3 6XI46AyvoTLgkpdjOZFiOK Been a while since I made a playlist\n",
      "   4 3LqRK6gKphEUEESfWsM8JC Nov2020\n",
      "   5 02lSJ5ZloI2LtNBuVEFQe4 Them heavy beats\n",
      "   6 1NWXuO9pRV5Nm3FKIWH0fS Mar 2020\n",
      "   7 4FLWESkjY0KMZUvYG756XC Jan 2020\n",
      "   8 3K5Xo9io3J5VslZDCJ1A0k 5050 playlist\n",
      "   9 45v0Qe5RsdOS2T5xvB167j Biking\n",
      "  10 2W7U0K3IaYUd8ayxvPr9i1 Kick some assana\n",
      "  11 6m3T2htjRWtYNZ7u28JgH7 Random songs Aiyana thinks you should listen to \n",
      "  12 2sTAP3SwyCFGya3RP40dA5 yoga worthy\n",
      "  13 1Rcwufdj6g8Ys6eSyPJnAb Olivia and Adi go on a road trip\n",
      "  14 67LCjtl8cJcnbhmtszNpcq Cloudy days\n",
      "  15 5z9C418iQByJtHMjlkbgby Indie Power Yoga\n",
      "  16 6vIFIpW0oOQAkQlgrfQQzm Comedy\n",
      "  17 2ibQDy9mbl7fXggXYUcm4B detox\n",
      "  18 70FEgrphmpdhH30dqzw7GO power (strong start)\n",
      "  19 55qRIYKL2H1GhK5ouHj6me yoga girl playlist (edited)\n",
      "  20 3wUAtxW58jSacLRxfLWsjV POWER1\n",
      "  21 21H6PrdMVPo4KzERwVnpQa YIN NEW\n",
      "  22 5aM8B5pVB6EsfJsyxfSukj Core Tuesday\n",
      "  23 0pGtGXXRWkfXxMxtfAmfqT Chill 123\n",
      "  24 1cC8j1nb8jbeeBYKSKKJ2w Chill Yoga\n",
      "  25 2OcOxYb3EeH1uyTxwy3Jdb hatha\n",
      "  26 5YQB95wXVEMnhI6Qe24Pcd YIN PLAYLIST\n",
      "  27 5T9J45NJPNSM79LfZS3MA8 Hot flow 2\n",
      "  28 3KqESZiHDIL6oolv2SHAjw Hot flow 1\n"
     ]
    }
   ],
   "source": [
    "'''Now we can list all of the user's playlists with this'''\n",
    "playlists = api.user_playlists(user=user)\n",
    "while playlists:\n",
    "            for i, playlist in enumerate(playlists['items']):\n",
    "                print(\"%4d %s %s\" % (i + 1 + playlists['offset'], playlist['id'], playlist['name']))\n",
    "            if playlists['next']:\n",
    "                playlists = api.next(playlists)\n",
    "            else:\n",
    "                playlists = None"
   ]
  },
  {
   "cell_type": "code",
   "execution_count": 130,
   "metadata": {},
   "outputs": [
    {
     "name": "stdout",
     "output_type": "stream",
     "text": [
      "{'collaborative': False, 'description': '', 'external_urls': {'spotify': 'https://open.spotify.com/playlist/6Nw7Q1TXEuZxyT8PG4rWGy'}, 'followers': {'href': None, 'total': 0}, 'href': 'https://api.spotify.com/v1/playlists/6Nw7Q1TXEuZxyT8PG4rWGy?additional_types=track', 'id': '6Nw7Q1TXEuZxyT8PG4rWGy', 'images': [{'height': 640, 'url': 'https://i.scdn.co/image/ab67616d0000b273f6eefabd474b1ed8bc7805f4', 'width': 640}], 'name': 'TEST', 'owner': {'display_name': 'Adi Ravishankara', 'external_urls': {'spotify': 'https://open.spotify.com/user/22rgo6mrxumdxizu6z26jiubq'}, 'href': 'https://api.spotify.com/v1/users/22rgo6mrxumdxizu6z26jiubq', 'id': '22rgo6mrxumdxizu6z26jiubq', 'type': 'user', 'uri': 'spotify:user:22rgo6mrxumdxizu6z26jiubq'}, 'primary_color': None, 'public': True, 'snapshot_id': 'NiwwZDRkMGY5MzMwMzE4YTA2MzEzZTMwYjJkNTI4MGZlOTVkN2NhOWU3', 'tracks': {'href': 'https://api.spotify.com/v1/playlists/6Nw7Q1TXEuZxyT8PG4rWGy/tracks?offset=0&limit=100&additional_types=track', 'items': [{'added_at': '2022-11-03T07:25:34Z', 'added_by': {'external_urls': {'spotify': 'https://open.spotify.com/user/22rgo6mrxumdxizu6z26jiubq'}, 'href': 'https://api.spotify.com/v1/users/22rgo6mrxumdxizu6z26jiubq', 'id': '22rgo6mrxumdxizu6z26jiubq', 'type': 'user', 'uri': 'spotify:user:22rgo6mrxumdxizu6z26jiubq'}, 'is_local': False, 'primary_color': None, 'track': {'album': {'album_type': 'single', 'artists': [{'external_urls': {'spotify': 'https://open.spotify.com/artist/6QcsVvR5z15HL7FT4QF2KD'}, 'href': 'https://api.spotify.com/v1/artists/6QcsVvR5z15HL7FT4QF2KD', 'id': '6QcsVvR5z15HL7FT4QF2KD', 'name': 'eleventyseven', 'type': 'artist', 'uri': 'spotify:artist:6QcsVvR5z15HL7FT4QF2KD'}], 'available_markets': ['AD', 'AE', 'AG', 'AL', 'AM', 'AO', 'AR', 'AT', 'AU', 'AZ', 'BA', 'BB', 'BD', 'BE', 'BF', 'BG', 'BH', 'BI', 'BJ', 'BN', 'BO', 'BR', 'BS', 'BT', 'BW', 'BY', 'BZ', 'CA', 'CD', 'CG', 'CH', 'CI', 'CL', 'CM', 'CO', 'CR', 'CV', 'CW', 'CY', 'CZ', 'DE', 'DJ', 'DK', 'DM', 'DO', 'DZ', 'EC', 'EE', 'EG', 'ES', 'FI', 'FJ', 'FM', 'FR', 'GA', 'GB', 'GD', 'GE', 'GH', 'GM', 'GN', 'GQ', 'GR', 'GT', 'GW', 'GY', 'HK', 'HN', 'HR', 'HT', 'HU', 'ID', 'IE', 'IL', 'IN', 'IQ', 'IS', 'IT', 'JM', 'JO', 'JP', 'KE', 'KG', 'KH', 'KI', 'KM', 'KN', 'KR', 'KW', 'KZ', 'LA', 'LB', 'LC', 'LI', 'LK', 'LR', 'LS', 'LT', 'LU', 'LV', 'LY', 'MA', 'MC', 'MD', 'ME', 'MG', 'MH', 'MK', 'ML', 'MN', 'MO', 'MR', 'MT', 'MU', 'MV', 'MW', 'MX', 'MY', 'MZ', 'NA', 'NE', 'NG', 'NI', 'NL', 'NO', 'NP', 'NR', 'NZ', 'OM', 'PA', 'PE', 'PG', 'PH', 'PK', 'PL', 'PS', 'PT', 'PW', 'PY', 'QA', 'RO', 'RS', 'RW', 'SA', 'SB', 'SC', 'SE', 'SG', 'SI', 'SK', 'SL', 'SM', 'SN', 'SR', 'ST', 'SV', 'SZ', 'TD', 'TG', 'TH', 'TJ', 'TL', 'TN', 'TO', 'TR', 'TT', 'TV', 'TW', 'TZ', 'UA', 'UG', 'US', 'UY', 'UZ', 'VC', 'VE', 'VN', 'VU', 'WS', 'XK', 'ZA', 'ZM', 'ZW'], 'external_urls': {'spotify': 'https://open.spotify.com/album/4n9pyOZoJoF8zCiCnQYbt4'}, 'href': 'https://api.spotify.com/v1/albums/4n9pyOZoJoF8zCiCnQYbt4', 'id': '4n9pyOZoJoF8zCiCnQYbt4', 'images': [{'height': 640, 'url': 'https://i.scdn.co/image/ab67616d0000b273bd4a4110e3ea9a190fce00f5', 'width': 640}, {'height': 300, 'url': 'https://i.scdn.co/image/ab67616d00001e02bd4a4110e3ea9a190fce00f5', 'width': 300}, {'height': 64, 'url': 'https://i.scdn.co/image/ab67616d00004851bd4a4110e3ea9a190fce00f5', 'width': 64}], 'name': 'Attack of the Mountain Medley', 'release_date': '2012-08-17', 'release_date_precision': 'day', 'total_tracks': 5, 'type': 'album', 'uri': 'spotify:album:4n9pyOZoJoF8zCiCnQYbt4'}, 'artists': [{'external_urls': {'spotify': 'https://open.spotify.com/artist/6QcsVvR5z15HL7FT4QF2KD'}, 'href': 'https://api.spotify.com/v1/artists/6QcsVvR5z15HL7FT4QF2KD', 'id': '6QcsVvR5z15HL7FT4QF2KD', 'name': 'eleventyseven', 'type': 'artist', 'uri': 'spotify:artist:6QcsVvR5z15HL7FT4QF2KD'}], 'available_markets': ['AD', 'AE', 'AG', 'AL', 'AM', 'AO', 'AR', 'AT', 'AU', 'AZ', 'BA', 'BB', 'BD', 'BE', 'BF', 'BG', 'BH', 'BI', 'BJ', 'BN', 'BO', 'BR', 'BS', 'BT', 'BW', 'BY', 'BZ', 'CA', 'CD', 'CG', 'CH', 'CI', 'CL', 'CM', 'CO', 'CR', 'CV', 'CW', 'CY', 'CZ', 'DE', 'DJ', 'DK', 'DM', 'DO', 'DZ', 'EC', 'EE', 'EG', 'ES', 'FI', 'FJ', 'FM', 'FR', 'GA', 'GB', 'GD', 'GE', 'GH', 'GM', 'GN', 'GQ', 'GR', 'GT', 'GW', 'GY', 'HK', 'HN', 'HR', 'HT', 'HU', 'ID', 'IE', 'IL', 'IN', 'IQ', 'IS', 'IT', 'JM', 'JO', 'JP', 'KE', 'KG', 'KH', 'KI', 'KM', 'KN', 'KR', 'KW', 'KZ', 'LA', 'LB', 'LC', 'LI', 'LK', 'LR', 'LS', 'LT', 'LU', 'LV', 'LY', 'MA', 'MC', 'MD', 'ME', 'MG', 'MH', 'MK', 'ML', 'MN', 'MO', 'MR', 'MT', 'MU', 'MV', 'MW', 'MX', 'MY', 'MZ', 'NA', 'NE', 'NG', 'NI', 'NL', 'NO', 'NP', 'NR', 'NZ', 'OM', 'PA', 'PE', 'PG', 'PH', 'PK', 'PL', 'PS', 'PT', 'PW', 'PY', 'QA', 'RO', 'RS', 'RW', 'SA', 'SB', 'SC', 'SE', 'SG', 'SI', 'SK', 'SL', 'SM', 'SN', 'SR', 'ST', 'SV', 'SZ', 'TD', 'TG', 'TH', 'TJ', 'TL', 'TN', 'TO', 'TR', 'TT', 'TV', 'TW', 'TZ', 'UA', 'UG', 'US', 'UY', 'UZ', 'VC', 'VE', 'VN', 'VU', 'WS', 'XK', 'ZA', 'ZM', 'ZW'], 'disc_number': 1, 'duration_ms': 224605, 'episode': False, 'explicit': False, 'external_ids': {'isrc': 'QMU9D1200005'}, 'external_urls': {'spotify': 'https://open.spotify.com/track/1EnzY9211lYp18HIbpBPWn'}, 'href': 'https://api.spotify.com/v1/tracks/1EnzY9211lYp18HIbpBPWn', 'id': '1EnzY9211lYp18HIbpBPWn', 'is_local': False, 'name': 'Appalachian Wine', 'popularity': 44, 'preview_url': 'https://p.scdn.co/mp3-preview/57bb1c46814c6971541f356dc183830429a44980?cid=acfb9f94ce0e4546a94704acb0654afa', 'track': True, 'track_number': 5, 'type': 'track', 'uri': 'spotify:track:1EnzY9211lYp18HIbpBPWn'}, 'video_thumbnail': {'url': None}}, {'added_at': '2022-11-03T07:30:46Z', 'added_by': {'external_urls': {'spotify': 'https://open.spotify.com/user/22rgo6mrxumdxizu6z26jiubq'}, 'href': 'https://api.spotify.com/v1/users/22rgo6mrxumdxizu6z26jiubq', 'id': '22rgo6mrxumdxizu6z26jiubq', 'type': 'user', 'uri': 'spotify:user:22rgo6mrxumdxizu6z26jiubq'}, 'is_local': False, 'primary_color': None, 'track': {'album': {'album_type': 'album', 'artists': [{'external_urls': {'spotify': 'https://open.spotify.com/artist/2MuFzH1J5I6gGFYo2qhZmX'}, 'href': 'https://api.spotify.com/v1/artists/2MuFzH1J5I6gGFYo2qhZmX', 'id': '2MuFzH1J5I6gGFYo2qhZmX', 'name': 'Ryn Weaver', 'type': 'artist', 'uri': 'spotify:artist:2MuFzH1J5I6gGFYo2qhZmX'}], 'available_markets': ['CA', 'MX', 'US'], 'external_urls': {'spotify': 'https://open.spotify.com/album/4967HGjmvsMtcOZ3AaPfI4'}, 'href': 'https://api.spotify.com/v1/albums/4967HGjmvsMtcOZ3AaPfI4', 'id': '4967HGjmvsMtcOZ3AaPfI4', 'images': [{'height': 640, 'url': 'https://i.scdn.co/image/ab67616d0000b2732262f81d3008feb57a745e16', 'width': 640}, {'height': 300, 'url': 'https://i.scdn.co/image/ab67616d00001e022262f81d3008feb57a745e16', 'width': 300}, {'height': 64, 'url': 'https://i.scdn.co/image/ab67616d000048512262f81d3008feb57a745e16', 'width': 64}], 'name': 'The Fool', 'release_date': '2015-06-02', 'release_date_precision': 'day', 'total_tracks': 11, 'type': 'album', 'uri': 'spotify:album:4967HGjmvsMtcOZ3AaPfI4'}, 'artists': [{'external_urls': {'spotify': 'https://open.spotify.com/artist/2MuFzH1J5I6gGFYo2qhZmX'}, 'href': 'https://api.spotify.com/v1/artists/2MuFzH1J5I6gGFYo2qhZmX', 'id': '2MuFzH1J5I6gGFYo2qhZmX', 'name': 'Ryn Weaver', 'type': 'artist', 'uri': 'spotify:artist:2MuFzH1J5I6gGFYo2qhZmX'}], 'available_markets': ['CA', 'MX', 'US'], 'disc_number': 1, 'duration_ms': 202746, 'episode': False, 'explicit': False, 'external_ids': {'isrc': 'USUM71502417'}, 'external_urls': {'spotify': 'https://open.spotify.com/track/31c1V9xUONZYk78NE4Id8D'}, 'href': 'https://api.spotify.com/v1/tracks/31c1V9xUONZYk78NE4Id8D', 'id': '31c1V9xUONZYk78NE4Id8D', 'is_local': False, 'name': 'Pierre', 'popularity': 62, 'preview_url': None, 'track': True, 'track_number': 3, 'type': 'track', 'uri': 'spotify:track:31c1V9xUONZYk78NE4Id8D'}, 'video_thumbnail': {'url': None}}], 'limit': 100, 'next': None, 'offset': 0, 'previous': None, 'total': 2}, 'type': 'playlist', 'uri': 'spotify:playlist:6Nw7Q1TXEuZxyT8PG4rWGy'}\n"
     ]
    }
   ],
   "source": [
    "'''The other thing we can do is load a playlist and see the songs in it. To do this we have to extract the playlist ID, as done above.'''\n",
    "\n",
    "print(api.playlist('6Nw7Q1TXEuZxyT8PG4rWGy')) # This lists all the info. so we need to select the information we need.\n",
    "my_playlist = api.playlist('6Nw7Q1TXEuZxyT8PG4rWGy')\n",
    "playlist_name = my_playlist['name']\n",
    "num_tracks = my_playlist['tracks']['total']\n",
    "tracks = my_playlist['tracks']['items']\n",
    "#print(tracks[0]['track']['name'])\n",
    "# for i in tracks:\n",
    "#     if 'track' in i:\n",
    "#         i = i['track']\n",
    "#         print(i)\n",
    "#     if not i:\n",
    "#         continue\n"
   ]
  },
  {
   "cell_type": "code",
   "execution_count": 131,
   "metadata": {},
   "outputs": [
    {
     "name": "stdout",
     "output_type": "stream",
     "text": [
      "['Appalachian Wine', 'eleventyseven', 'Attack of the Mountain Medley']\n"
     ]
    }
   ],
   "source": [
    "'''Let's do this again but in a properly structured table with the playlist name, song title, artist name, album, year it came out as metrics'''\n",
    "def load_song_info(playlist_id:str):\n",
    "    p1 = api.playlist(playlist_id)\n",
    "    playlist_name = p1['name']\n",
    "    playlist_owner = p1['owner']['display_name']\n",
    "    num_tracks = p1['tracks']['total']\n",
    "    song_name = p1['tracks']['items'][0]['track']['name']\n",
    "    artist_name = p1['tracks']['items'][0]['track']['artists'][0]['name']\n",
    "    album_name = p1['tracks']['items'][0]['track']['album']['name']\n",
    "    song_info = [song_name, artist_name, album_name]\n",
    "    return song_info\n",
    "\n",
    "\n",
    "print(load_song_info('6Nw7Q1TXEuZxyT8PG4rWGy'))"
   ]
  },
  {
   "cell_type": "code",
   "execution_count": 132,
   "metadata": {},
   "outputs": [
    {
     "name": "stdout",
     "output_type": "stream",
     "text": [
      "[['Appalachian Wine', 'eleventyseven', 'Attack of the Mountain Medley'], ['Pierre', 'Ryn Weaver', 'The Fool']]\n"
     ]
    }
   ],
   "source": [
    "'''Let's do this again but with multiple songs, in a properly structured table with the playlist name, song title, artist name, album, year it came out as metrics'''\n",
    "def load_song_info(playlist_id:str):\n",
    "    p1 = api.playlist(playlist_id)\n",
    "    playlist_name = p1['name']\n",
    "    playlist_owner = p1['owner']['display_name']\n",
    "    num_tracks = p1['tracks']['total']\n",
    "    song_info = []\n",
    "    for element in p1['tracks']['items']:\n",
    "        song_name = element['track']['name']\n",
    "        artist_name = element['track']['artists'][0]['name']\n",
    "        album_name = element['track']['album']['name']\n",
    "        song_info.append([song_name, artist_name, album_name])\n",
    "    return song_info\n",
    "\n",
    "\n",
    "print(load_song_info('6Nw7Q1TXEuZxyT8PG4rWGy'))"
   ]
  },
  {
   "cell_type": "code",
   "execution_count": 132,
   "metadata": {},
   "outputs": [],
   "source": [
    "'''As you can see this system will work with any number of songs. So far we have developed a system that can:\n",
    "1. Access all the playlists of a given user\n",
    "2. Extract individual songs from the playlist\n",
    "The next part we will work on is adding these songs to a playlist on youtube music using the YTMusicAPI'''"
   ]
  },
  {
   "cell_type": "code",
   "execution_count": 2,
   "metadata": {},
   "outputs": [
    {
     "data": {
      "text/plain": "' This just created a authenticated youtube music access. Now we can create playlists'"
     },
     "execution_count": 2,
     "metadata": {},
     "output_type": "execute_result"
    }
   ],
   "source": [
    "from ytmusicapi import YTMusic\n",
    "\n",
    "yt = YTMusic(\"headers_auth.json\")\n",
    "''' This just created a authenticated youtube music access. Now we can create playlists'''"
   ]
  },
  {
   "cell_type": "code",
   "execution_count": null,
   "outputs": [],
   "source": [
    "playlistID = yt.create_playlist('test2', 'this is a test')\n",
    "yt.add_playlist_items(playlistID, [yt.search(\"Appalachian Wine eleventyseven\")[0]['videoId']])"
   ],
   "metadata": {
    "collapsed": false
   }
  },
  {
   "cell_type": "code",
   "execution_count": null,
   "outputs": [],
   "source": [],
   "metadata": {
    "collapsed": false
   }
  }
 ],
 "metadata": {
  "kernelspec": {
   "display_name": "Python 3 (ipykernel)",
   "language": "python",
   "name": "python3"
  },
  "language_info": {
   "codemirror_mode": {
    "name": "ipython",
    "version": 3
   },
   "file_extension": ".py",
   "mimetype": "text/x-python",
   "name": "python",
   "nbconvert_exporter": "python",
   "pygments_lexer": "ipython3",
   "version": "3.11.0"
  }
 },
 "nbformat": 4,
 "nbformat_minor": 1
}
